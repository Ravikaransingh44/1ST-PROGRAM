{
  "nbformat": 4,
  "nbformat_minor": 0,
  "metadata": {
    "colab": {
      "provenance": [],
      "authorship_tag": "ABX9TyM5GbcaYtwGfvgxMc/Kcb1m",
      "include_colab_link": true
    },
    "kernelspec": {
      "name": "python3",
      "display_name": "Python 3"
    },
    "language_info": {
      "name": "python"
    }
  },
  "cells": [
    {
      "cell_type": "markdown",
      "metadata": {
        "id": "view-in-github",
        "colab_type": "text"
      },
      "source": [
        "<a href=\"https://colab.research.google.com/github/Ravikaransingh44/1ST-PROGRAM/blob/main/Untitled0.ipynb\" target=\"_parent\"><img src=\"https://colab.research.google.com/assets/colab-badge.svg\" alt=\"Open In Colab\"/></a>"
      ]
    },
    {
      "cell_type": "code",
      "execution_count": 35,
      "metadata": {
        "colab": {
          "base_uri": "https://localhost:8080/"
        },
        "id": "_U49cLFh0b-a",
        "outputId": "0a713ed7-2187-45d1-b8ed-cd13085c4572"
      },
      "outputs": [
        {
          "output_type": "stream",
          "name": "stdout",
          "text": [
            "440\n"
          ]
        }
      ],
      "source": [
        "a=2\n",
        "b=5\n",
        "c=2\n",
        "d=22\n",
        "e=a*b*c*d\n",
        "print(e)"
      ]
    },
    {
      "cell_type": "markdown",
      "source": [],
      "metadata": {
        "id": "V3hk0GZA1rjK"
      }
    },
    {
      "cell_type": "code",
      "source": [
        "AGE=22\n",
        "print(\"my age is -\",AGE)\n"
      ],
      "metadata": {
        "colab": {
          "base_uri": "https://localhost:8080/"
        },
        "id": "LUVeMZB75NYB",
        "outputId": "f2ce4a72-220e-4d96-8db3-43cf06aba44e"
      },
      "execution_count": 36,
      "outputs": [
        {
          "output_type": "stream",
          "name": "stdout",
          "text": [
            "my age is - 22\n"
          ]
        }
      ]
    },
    {
      "cell_type": "code",
      "source": [
        "states = [\n",
        "  print  (\" 1-Uttar Pradesh\", 241_265_000),\n",
        "  print  (\"2-Bihar\", 131_041_000),\n",
        "    print(\"3-Maharashtra\", 128_659_000),\n",
        "   print (\"4-West Bengal\", 100_202_000),\n",
        "   print (\"5-Madhya Pradesh\", 88_985_000),]\n"
      ],
      "metadata": {
        "colab": {
          "base_uri": "https://localhost:8080/"
        },
        "id": "yYVINvzU87fF",
        "outputId": "e28c98a7-3035-42f7-baca-7e4f07942b5f"
      },
      "execution_count": 37,
      "outputs": [
        {
          "output_type": "stream",
          "name": "stdout",
          "text": [
            " 1-Uttar Pradesh 241265000\n",
            "2-Bihar 131041000\n",
            "3-Maharashtra 128659000\n",
            "4-West Bengal 100202000\n",
            "5-Madhya Pradesh 88985000\n"
          ]
        }
      ]
    },
    {
      "cell_type": "code",
      "source": [
        "a=\"ravi\"\n",
        "b=\" dhillon\"\n",
        "c=a+b\n",
        "print(\"name-\",c)"
      ],
      "metadata": {
        "colab": {
          "base_uri": "https://localhost:8080/"
        },
        "id": "tAEz9yFu_TuH",
        "outputId": "21d892aa-6e49-42aa-bf79-b00f7898b330"
      },
      "execution_count": 38,
      "outputs": [
        {
          "output_type": "stream",
          "name": "stdout",
          "text": [
            "name- ravi dhillon\n"
          ]
        }
      ]
    },
    {
      "cell_type": "code",
      "source": [
        "a=2\n",
        "b=3\n",
        "c=a+b\n",
        "print(c)\n"
      ],
      "metadata": {
        "colab": {
          "base_uri": "https://localhost:8080/"
        },
        "id": "Gaeg0GqA_1NI",
        "outputId": "4a574cd2-fb1d-42ca-cb17-89721d0447a8"
      },
      "execution_count": 39,
      "outputs": [
        {
          "output_type": "stream",
          "name": "stdout",
          "text": [
            "5\n"
          ]
        }
      ]
    },
    {
      "cell_type": "code",
      "source": [
        "ACCOUNT-[\n",
        "    print(\"\")\n",
        "]"
      ],
      "metadata": {
        "id": "BLdGA3cdAMBj"
      },
      "execution_count": null,
      "outputs": []
    },
    {
      "cell_type": "markdown",
      "source": [],
      "metadata": {
        "id": "6xZSqjhH1sFP"
      }
    },
    {
      "cell_type": "code",
      "source": [
        "print(\"NAME-RAVIKARAN SINGH\\nVILLAGE-SHERON\\nSTUDY-BTECH(CSE)\\nCGPA-8.4\\nHOBBIES-PLAYING CRICKET\")"
      ],
      "metadata": {
        "colab": {
          "base_uri": "https://localhost:8080/"
        },
        "id": "M5p99u3702W3",
        "outputId": "e5f2aa12-dfb6-493f-a1c3-ba4916f186e8"
      },
      "execution_count": 40,
      "outputs": [
        {
          "output_type": "stream",
          "name": "stdout",
          "text": [
            "NAME-RAVIKARAN SINGH\n",
            "VILLAGE-SHERON\n",
            "STUDY-BTECH(CSE)\n",
            "CGPA-8.4\n",
            "HOBBIES-PLAYING CRICKET\n"
          ]
        }
      ]
    },
    {
      "cell_type": "markdown",
      "source": [],
      "metadata": {
        "id": "8pVUpnj-5M9u"
      }
    },
    {
      "cell_type": "markdown",
      "source": [],
      "metadata": {
        "id": "DlRtS6ta5Led"
      }
    }
  ]
}