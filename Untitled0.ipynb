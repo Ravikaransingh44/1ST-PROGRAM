{
  "nbformat": 4,
  "nbformat_minor": 0,
  "metadata": {
    "colab": {
      "provenance": [],
      "authorship_tag": "ABX9TyPpKKnQLxsMVDT9Wp6nrOzE",
      "include_colab_link": true
    },
    "kernelspec": {
      "name": "python3",
      "display_name": "Python 3"
    },
    "language_info": {
      "name": "python"
    }
  },
  "cells": [
    {
      "cell_type": "markdown",
      "metadata": {
        "id": "view-in-github",
        "colab_type": "text"
      },
      "source": [
        "<a href=\"https://colab.research.google.com/github/Ravikaransingh44/1ST-PROGRAM/blob/main/Untitled0.ipynb\" target=\"_parent\"><img src=\"https://colab.research.google.com/assets/colab-badge.svg\" alt=\"Open In Colab\"/></a>"
      ]
    },
    {
      "cell_type": "code",
      "execution_count": 41,
      "metadata": {
        "colab": {
          "base_uri": "https://localhost:8080/"
        },
        "id": "_U49cLFh0b-a",
        "outputId": "621618cf-3254-428b-9a2b-d074f6d0ed40"
      },
      "outputs": [
        {
          "output_type": "stream",
          "name": "stdout",
          "text": [
            "440\n"
          ]
        }
      ],
      "source": [
        "a=2\n",
        "b=5\n",
        "c=2\n",
        "d=22\n",
        "e=a*b*c*d\n",
        "print(e)"
      ]
    },
    {
      "cell_type": "markdown",
      "source": [],
      "metadata": {
        "id": "V3hk0GZA1rjK"
      }
    },
    {
      "cell_type": "code",
      "source": [
        "AGE=22\n",
        "print(\"my age is -\",AGE)\n"
      ],
      "metadata": {
        "colab": {
          "base_uri": "https://localhost:8080/"
        },
        "id": "LUVeMZB75NYB",
        "outputId": "0a89797a-5e57-49c9-b259-36bc0105f2f6"
      },
      "execution_count": 42,
      "outputs": [
        {
          "output_type": "stream",
          "name": "stdout",
          "text": [
            "my age is - 22\n"
          ]
        }
      ]
    },
    {
      "cell_type": "code",
      "source": [
        "states = [\n",
        "  print  (\" 1-Uttar Pradesh\", 241_265_000),\n",
        "  print  (\"2-Bihar\", 131_041_000),\n",
        "    print(\"3-Maharashtra\", 128_659_000),\n",
        "   print (\"4-West Bengal\", 100_202_000),\n",
        "   print (\"5-Madhya Pradesh\", 88_985_000),]\n"
      ],
      "metadata": {
        "colab": {
          "base_uri": "https://localhost:8080/"
        },
        "id": "yYVINvzU87fF",
        "outputId": "df0ca8cd-c8d9-4b60-92ae-b351157f1600"
      },
      "execution_count": 43,
      "outputs": [
        {
          "output_type": "stream",
          "name": "stdout",
          "text": [
            " 1-Uttar Pradesh 241265000\n",
            "2-Bihar 131041000\n",
            "3-Maharashtra 128659000\n",
            "4-West Bengal 100202000\n",
            "5-Madhya Pradesh 88985000\n"
          ]
        }
      ]
    },
    {
      "cell_type": "code",
      "source": [
        "a=\"ravi\"\n",
        "b=\" dhillon\"\n",
        "c=a+b\n",
        "print(\"name-\",c)"
      ],
      "metadata": {
        "colab": {
          "base_uri": "https://localhost:8080/"
        },
        "id": "tAEz9yFu_TuH",
        "outputId": "45589d46-8b84-4179-e3bc-7b1763dbd1ca"
      },
      "execution_count": 44,
      "outputs": [
        {
          "output_type": "stream",
          "name": "stdout",
          "text": [
            "name- ravi dhillon\n"
          ]
        }
      ]
    },
    {
      "cell_type": "code",
      "source": [
        "a=2\n",
        "b=3\n",
        "c=a+b\n",
        "print(c)\n"
      ],
      "metadata": {
        "colab": {
          "base_uri": "https://localhost:8080/"
        },
        "id": "Gaeg0GqA_1NI",
        "outputId": "a07f0c31-44a5-45ed-f46b-edd699fe450d"
      },
      "execution_count": 45,
      "outputs": [
        {
          "output_type": "stream",
          "name": "stdout",
          "text": [
            "5\n"
          ]
        }
      ]
    },
    {
      "cell_type": "code",
      "source": [
        "ACCOUNT-[\n",
        "    print(\"\")\n",
        "]"
      ],
      "metadata": {
        "colab": {
          "base_uri": "https://localhost:8080/",
          "height": 181
        },
        "id": "BLdGA3cdAMBj",
        "outputId": "42438701-93b4-44cd-b25c-b7037675f085"
      },
      "execution_count": 46,
      "outputs": [
        {
          "output_type": "error",
          "ename": "NameError",
          "evalue": "name 'ACCOUNT' is not defined",
          "traceback": [
            "\u001b[0;31m---------------------------------------------------------------------------\u001b[0m",
            "\u001b[0;31mNameError\u001b[0m                                 Traceback (most recent call last)",
            "\u001b[0;32m/tmp/ipython-input-2689064397.py\u001b[0m in \u001b[0;36m<cell line: 0>\u001b[0;34m()\u001b[0m\n\u001b[0;32m----> 1\u001b[0;31m ACCOUNT-[\n\u001b[0m\u001b[1;32m      2\u001b[0m     \u001b[0mprint\u001b[0m\u001b[0;34m(\u001b[0m\u001b[0;34m\"\"\u001b[0m\u001b[0;34m)\u001b[0m\u001b[0;34m\u001b[0m\u001b[0;34m\u001b[0m\u001b[0m\n\u001b[1;32m      3\u001b[0m ]\n",
            "\u001b[0;31mNameError\u001b[0m: name 'ACCOUNT' is not defined"
          ]
        }
      ]
    },
    {
      "cell_type": "code",
      "source": [
        "a=34404502\n",
        "print(\"print account no.\",a)\n",
        "print(\"account holder name Ravikaran singh\")\n",
        "print(\"Balance\",23456)"
      ],
      "metadata": {
        "colab": {
          "base_uri": "https://localhost:8080/"
        },
        "id": "KMUIjxxpCI7e",
        "outputId": "8b786204-9cf7-46fc-8e63-05d7fceeb66b"
      },
      "execution_count": 48,
      "outputs": [
        {
          "output_type": "stream",
          "name": "stdout",
          "text": [
            "print account no. 34404502\n",
            "account holder name Ravikaran singh\n",
            "Balance 23456\n"
          ]
        }
      ]
    },
    {
      "cell_type": "code",
      "source": [
        "\"\"\" this is for multi line comment\n",
        "in python\"\"\"\n",
        "print(\"daily routine\")\n",
        "print(\"wake up 9AM\")\n",
        "print(\"study time - 10 am to 2.00 pm\")\n",
        "print(\"free time till 4.pm\")\n",
        "print(\"playing cricket till 7pm\")\n",
        "print(\"9 pm sleep\")\n",
        "#this is my daily routine\n",
        "\n"
      ],
      "metadata": {
        "colab": {
          "base_uri": "https://localhost:8080/"
        },
        "id": "u0YikAbpDZOl",
        "outputId": "380a5f2a-550e-489d-ee26-dc7eafa3f690"
      },
      "execution_count": 52,
      "outputs": [
        {
          "output_type": "stream",
          "name": "stdout",
          "text": [
            "daily routine\n",
            "wake up 9AM\n",
            "study time - 10 am to 2.00 pm\n",
            "free time till 4.pm\n",
            "playing cricket till 7pm\n",
            "9 pm sleep\n"
          ]
        }
      ]
    },
    {
      "cell_type": "markdown",
      "source": [],
      "metadata": {
        "id": "WP6Od3bQ1X-E"
      }
    },
    {
      "cell_type": "code",
      "source": [
        "a=int(input(\"enter the first number\"))\n",
        "b=int(input(\"enter the second number\"))\n",
        "c=a+b\n",
        "d=a-b\n",
        "print(c,d)"
      ],
      "metadata": {
        "colab": {
          "base_uri": "https://localhost:8080/"
        },
        "id": "k79IzpUj1ZQg",
        "outputId": "bf736fe8-2518-465e-d18d-df72df0338fa"
      },
      "execution_count": 5,
      "outputs": [
        {
          "output_type": "stream",
          "name": "stdout",
          "text": [
            "enter the first number22\n",
            "enter the second number11\n",
            "33 11\n"
          ]
        }
      ]
    },
    {
      "cell_type": "code",
      "source": [],
      "metadata": {
        "id": "SJewS16X-rs9"
      },
      "execution_count": null,
      "outputs": []
    },
    {
      "cell_type": "code",
      "source": [
        "a=float(input(\"enter the first number\"))#enter the first number\n",
        "\n",
        "b=float(input(\"enter the second number\"))#enter the second number\n",
        "sub=b-a #subtraction is done\n",
        "print(\"the subtraction of two no. is \",sub)# print statement"
      ],
      "metadata": {
        "colab": {
          "base_uri": "https://localhost:8080/"
        },
        "id": "84tGH6z9-sYn",
        "outputId": "c79fa34b-d184-46ce-8aa9-ae97fd3a0479"
      },
      "execution_count": 7,
      "outputs": [
        {
          "output_type": "stream",
          "name": "stdout",
          "text": [
            "enter the first number55\n",
            "enter the second number55.7\n",
            "the subtraction of two no. is  0.7000000000000028\n"
          ]
        }
      ]
    },
    {
      "cell_type": "code",
      "source": [
        "a=float(input(\"enter the prize of burger\"))\n",
        "b=float(input(\"enter the prize of items\"))\n",
        "c=float(input(\"enter the prize of fries\"))\n",
        "discount=float(input(\"enter the discount\"))\n",
        "bill=(a+b+c)*discount\n",
        "finalbill=(a+b+c)-bill\n",
        "print(\"final bill\",finalbill)"
      ],
      "metadata": {
        "colab": {
          "base_uri": "https://localhost:8080/"
        },
        "id": "I61_CxI7_Tzu",
        "outputId": "99eaf259-b85e-4984-f9cb-c3970772a57d"
      },
      "execution_count": 15,
      "outputs": [
        {
          "output_type": "stream",
          "name": "stdout",
          "text": [
            "enter the prize of burger100\n",
            "enter the prize of items20\n",
            "enter the prize of fries10\n",
            "enter the discount0.3\n",
            "final bill 91.0\n"
          ]
        }
      ]
    },
    {
      "cell_type": "markdown",
      "source": [],
      "metadata": {
        "id": "6xZSqjhH1sFP"
      }
    },
    {
      "cell_type": "code",
      "source": [
        "print(\"NAME-RAVIKARAN SINGH\\nVILLAGE-SHERON\\nSTUDY-BTECH(CSE)\\nCGPA-8.4\\nHOBBIES-PLAYING CRICKET\")"
      ],
      "metadata": {
        "id": "M5p99u3702W3"
      },
      "execution_count": null,
      "outputs": []
    },
    {
      "cell_type": "markdown",
      "source": [],
      "metadata": {
        "id": "8pVUpnj-5M9u"
      }
    },
    {
      "cell_type": "markdown",
      "source": [],
      "metadata": {
        "id": "DlRtS6ta5Led"
      }
    }
  ]
}